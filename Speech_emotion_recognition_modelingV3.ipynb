{
  "cells": [
    {
      "cell_type": "markdown",
      "metadata": {
        "id": "view-in-github",
        "colab_type": "text"
      },
      "source": [
        "<a href=\"https://colab.research.google.com/github/shadfdz/speechEmotionRecognition/blob/master/Speech_emotion_recognition_modelingV3.ipynb\" target=\"_parent\"><img src=\"https://colab.research.google.com/assets/colab-badge.svg\" alt=\"Open In Colab\"/></a>"
      ]
    },
    {
      "cell_type": "markdown",
      "source": [
        "# Import Libraries"
      ],
      "metadata": {
        "id": "4bFy3DBgDqN4"
      }
    },
    {
      "cell_type": "code",
      "execution_count": null,
      "metadata": {
        "colab": {
          "base_uri": "https://localhost:8080/"
        },
        "id": "8df-NrCbtUe-",
        "outputId": "120c2b5b-e7ea-465f-e1af-9b22962a165b"
      },
      "outputs": [
        {
          "output_type": "stream",
          "name": "stdout",
          "text": [
            "Mounted at /content/drive\n"
          ]
        },
        {
          "output_type": "execute_result",
          "data": {
            "text/plain": [
              "<torch._C.Generator at 0x7fc1508f0270>"
            ]
          },
          "metadata": {},
          "execution_count": 21
        }
      ],
      "source": [
        "from google.colab import drive\n",
        "import librosa\n",
        "import librosa.display\n",
        "import pickle\n",
        "import os\n",
        "import numpy as np\n",
        "import pandas as pd\n",
        "import matplotlib.pyplot as plt\n",
        "drive.mount('/content/drive',force_remount=True)\n",
        "from torch.utils.data import Dataset, DataLoader\n",
        "from torchsummary import summary\n",
        "from torch import nn\n",
        "import torch\n",
        "import glob\n",
        "from torch.utils.data import random_split\n",
        "from torch.utils.data import DataLoader\n",
        "import sklearn\n",
        "import seaborn as sn\n",
        "import pandas as pd\n",
        "torch.manual_seed(0)"
      ]
    },
    {
      "cell_type": "code",
      "execution_count": null,
      "metadata": {
        "colab": {
          "base_uri": "https://localhost:8080/"
        },
        "id": "mU9jARvRzZ19",
        "outputId": "1f62ef3a-b5a0-42c5-8d72-e5769b1f02a4"
      },
      "outputs": [
        {
          "output_type": "stream",
          "name": "stdout",
          "text": [
            "drive/MyDrive/emotion_ds_4cat.pkl\n"
          ]
        }
      ],
      "source": [
        "!ls drive/MyDrive/emotion_ds_4cat.pkl"
      ]
    },
    {
      "cell_type": "code",
      "execution_count": null,
      "metadata": {
        "id": "2SwSDrrZt56p"
      },
      "outputs": [],
      "source": [
        "# get emotion categories (remove calm it has been grouped with neutral prior)\n",
        "path = 'drive/MyDrive/processed_emotion_dataset/'\n",
        "sub_folder = glob.glob(path + '*')\n",
        "sub_folder.remove('drive/MyDrive/processed_emotion_dataset/calm')\n",
        "emotions = [i.split('/')[3] for i in sub_folder]\n",
        "\n",
        "# emotions.remove('fearful')\n",
        "# emotions.remove('disgust')\n",
        "# emotions.remove('surprised')\n",
        "\n",
        "# sub_folder.remove('drive/MyDrive/processed_emotion_dataset/fearful')\n",
        "# sub_folder.remove('drive/MyDrive/processed_emotion_dataset/disgust')\n",
        "# sub_folder.remove('drive/MyDrive/processed_emotion_dataset/surprised')"
      ]
    },
    {
      "cell_type": "code",
      "execution_count": null,
      "metadata": {
        "colab": {
          "base_uri": "https://localhost:8080/"
        },
        "id": "1GdHxXPRX_wU",
        "outputId": "a1e0e130-bd0a-4c19-d149-04e506da0135"
      },
      "outputs": [
        {
          "output_type": "stream",
          "name": "stdout",
          "text": [
            "['neutral', 'happy', 'sad', 'angry']\n",
            "['drive/MyDrive/processed_emotion_dataset/neutral', 'drive/MyDrive/processed_emotion_dataset/happy', 'drive/MyDrive/processed_emotion_dataset/sad', 'drive/MyDrive/processed_emotion_dataset/angry']\n"
          ]
        }
      ],
      "source": [
        "print(emotions)\n",
        "print(sub_folder)"
      ]
    },
    {
      "cell_type": "markdown",
      "source": [
        "# Explore Data"
      ],
      "metadata": {
        "id": "7MJVYUm_Dxbj"
      }
    },
    {
      "cell_type": "code",
      "execution_count": null,
      "metadata": {
        "colab": {
          "base_uri": "https://localhost:8080/"
        },
        "id": "izTOkRB_yByp",
        "outputId": "e88f27d6-c148-429a-d69b-d11c9d0c7f91"
      },
      "outputs": [
        {
          "output_type": "stream",
          "name": "stdout",
          "text": [
            "Emotion category: 'neutral' Count: 1619\n",
            "Emotion category: 'happy' Count: 1739\n",
            "Emotion category: 'sad' Count: 1739\n",
            "Emotion category: 'angry' Count: 1739\n",
            "Emotion category: 'fearful' Count: 1739\n",
            "Emotion category: 'disgust' Count: 1739\n",
            "Emotion category: 'surprised' Count: 469\n"
          ]
        }
      ],
      "source": [
        "# print count of each file\n",
        "emotion = []\n",
        "count = []\n",
        "for cat in emotions:\n",
        "  f_list = glob.glob(path + cat + '/*')\n",
        "  emotion.append(cat)\n",
        "  count.append(len(f_list))\n",
        "  print('Emotion category: \\'{}\\' Count: {}'.format(cat,len(f_list)))"
      ]
    },
    {
      "cell_type": "code",
      "source": [
        "import matplotlib.pyplot as plt\n",
        "fig = plt.figure(figsize=(8,6))\n",
        "ax = fig.add_axes([0,0,1,1])\n",
        "ax.bar(emotion,count)\n",
        "plt.title('Audio File Category Distribution')\n",
        "plt.show\n",
        "fig.savefig('drive/MyDrive/SER_charts/' + 'cat_count.jpg')"
      ],
      "metadata": {
        "colab": {
          "base_uri": "https://localhost:8080/",
          "height": 507
        },
        "id": "tX1rgXkgACk1",
        "outputId": "f866990a-d3ff-48a1-9999-cb5f7d1fce66"
      },
      "execution_count": null,
      "outputs": [
        {
          "output_type": "display_data",
          "data": {
            "text/plain": [
              "<Figure size 576x432 with 1 Axes>"
            ],
            "image/png": "[encoded data removed]"
          },
          "metadata": {}
        }
      ]
    },
    {
      "cell_type": "code",
      "source": [
        "# get all files\n",
        "file_list = []\n",
        "for folder in sub_folder:\n",
        "  print('Exporting ' + folder)\n",
        "  file_list += glob.glob(folder + \"/*\")"
      ],
      "metadata": {
        "id": "o1Wrc4h1psOO",
        "colab": {
          "base_uri": "https://localhost:8080/"
        },
        "outputId": "cdb4f127-4f41-4437-ae88-70685a19449d"
      },
      "execution_count": null,
      "outputs": [
        {
          "output_type": "stream",
          "name": "stdout",
          "text": [
            "Exporting drive/MyDrive/processed_emotion_dataset/neutral\n",
            "Exporting drive/MyDrive/processed_emotion_dataset/happy\n",
            "Exporting drive/MyDrive/processed_emotion_dataset/sad\n",
            "Exporting drive/MyDrive/processed_emotion_dataset/angry\n"
          ]
        }
      ]
    },
    {
      "cell_type": "code",
      "execution_count": null,
      "metadata": {
        "colab": {
          "base_uri": "https://localhost:8080/"
        },
        "id": "p1grs4lVid8q",
        "outputId": "3161de1f-8e3e-4057-ebc0-f55d716bb116"
      },
      "outputs": [
        {
          "name": "stdout",
          "output_type": "stream",
          "text": [
            "162M\tdrive/MyDrive/processed_emotion_dataset/sad\n"
          ]
        }
      ],
      "source": [
        "!du -sh drive/MyDrive/processed_emotion_dataset/sad"
      ]
    },
    {
      "cell_type": "code",
      "execution_count": null,
      "metadata": {
        "colab": {
          "base_uri": "https://localhost:8080/",
          "height": 276
        },
        "id": "GjxBCYh-isll",
        "outputId": "c666b41e-8b4c-42cc-c3ef-09b5f12b1de0"
      },
      "outputs": [
        {
          "data": {
            "text/plain": [
              "<matplotlib.colorbar.Colorbar at 0x7f868df66d50>"
            ]
          },
          "execution_count": 167,
          "metadata": {},
          "output_type": "execute_result"
        },
        {
          "data": {
            "image/png": "[encoded data removed]",
            "text/plain": [
              "<Figure size 432x288 with 2 Axes>"
            ]
          },
          "metadata": {},
          "output_type": "display_data"
        }
      ],
      "source": [
        "y, sr = librosa.load('drive/MyDrive/processed_emotion_dataset/sad/sad_1209.wav')\n",
        "D = librosa.stft(y)  # STFT of y\n",
        "S_db = librosa.amplitude_to_db(np.abs(D), ref=np.max)\n",
        "plt.figure()\n",
        "librosa.display.specshow(S_db)\n",
        "plt.colorbar()"
      ]
    },
    {
      "cell_type": "code",
      "source": [
        "!ls drive/MyDrive/processed_emotion_dataset/fearful"
      ],
      "metadata": {
        "id": "e9k0BVtIEH8w"
      },
      "execution_count": null,
      "outputs": []
    },
    {
      "cell_type": "code",
      "source": [
        "y, sr = librosa.load('drive/MyDrive/processed_emotion_dataset/happy/happy_323.wav')  \n",
        "mfccs = librosa.feature.mfcc(y=y, sr=sr)\n",
        "librosa.display.specshow(mfccs, x_axis='time')\n",
        "plt.title('MFCC of a \\'Happy\\' Audio Data')\n",
        "plt.colorbar()\n",
        "plt.ylabel('MFCC')\n",
        "plt.set_cmap('magma')\n",
        "plt.show\n",
        "# plt.savefig(save_path + 'mfcc_happy_sample.jpg')"
      ],
      "metadata": {
        "colab": {
          "base_uri": "https://localhost:8080/",
          "height": 313
        },
        "id": "HZMuWn9RD09D",
        "outputId": "27ad634c-aa1b-4995-d5eb-5f7cac5316cc"
      },
      "execution_count": null,
      "outputs": [
        {
          "output_type": "execute_result",
          "data": {
            "text/plain": [
              "<function matplotlib.pyplot.show>"
            ]
          },
          "metadata": {},
          "execution_count": 4
        },
        {
          "output_type": "display_data",
          "data": {
            "text/plain": [
              "<Figure size 432x288 with 2 Axes>"
            ],
            "image/png": "[encoded data removed]"
          },
          "metadata": {
            "needs_background": "light"
          }
        }
      ]
    },
    {
      "cell_type": "code",
      "source": [
        ""
      ],
      "metadata": {
        "id": "hxfCj-ESE_6b"
      },
      "execution_count": null,
      "outputs": []
    },
    {
      "cell_type": "code",
      "source": [
        "x, sr = librosa.load('drive/MyDrive/processed_emotion_dataset/fearful/fearful_613.wav')\n",
        "melspect = librosa.feature.melspectrogram(y=x, sr=sr)\n",
        "melspect = librosa.power_to_db(melspect, top_db=80.0)\n",
        "librosa.display.specshow(melspect, x_axis='time')\n",
        "plt.colorbar()\n",
        "plt.title('Melspectrogram of \\'Fearful\\' Audio Data')\n",
        "plt.ylabel('db')\n",
        "plt.set_cmap('magma')\n",
        "plt.show\n",
        "# plt.savefig(save_path + 'mfcc_fearul_sample.jpg')"
      ],
      "metadata": {
        "colab": {
          "base_uri": "https://localhost:8080/",
          "height": 313
        },
        "outputId": "e4dedaf6-1119-4b0c-a8e4-a4d3b87e5fd5",
        "id": "m_nZF8gAFM1m"
      },
      "execution_count": null,
      "outputs": [
        {
          "output_type": "execute_result",
          "data": {
            "text/plain": [
              "<function matplotlib.pyplot.show>"
            ]
          },
          "metadata": {},
          "execution_count": 5
        },
        {
          "output_type": "display_data",
          "data": {
            "text/plain": [
              "<Figure size 432x288 with 2 Axes>"
            ],
            "image/png": "[encoded data removed]"
          },
          "metadata": {
            "needs_background": "light"
          }
        }
      ]
    },
    {
      "cell_type": "markdown",
      "metadata": {
        "id": "TmZlCQr49vGi"
      },
      "source": [
        "# Create Features and Pickle Data"
      ]
    },
    {
      "cell_type": "code",
      "execution_count": null,
      "metadata": {
        "id": "BCE96Jr99GYJ"
      },
      "outputs": [],
      "source": [
        "emotion_class_dict = {\"neutral\": 0,\n",
        "                    \"happy\": 1,\n",
        "                    \"sad\": 2,\n",
        "                    \"angry\": 3\n",
        "                    }"
      ]
    },
    {
      "cell_type": "code",
      "execution_count": null,
      "metadata": {
        "id": "NVEQ5D99Zcos"
      },
      "outputs": [],
      "source": [
        "# !ls -1 drive/MyDrive/mel_spec_photos/ | wc -l\n",
        "\n",
        "# out_path = 'drive/MyDrive/mel_spec_frames/'"
      ]
    },
    {
      "cell_type": "markdown",
      "source": [
        "Get Zero Crossing"
      ],
      "metadata": {
        "id": "E1CxwjY6SE3G"
      }
    },
    {
      "cell_type": "code",
      "source": [
        "def get_zero_crossing(y, sr):\n",
        "  zero_crossing = librosa.feature.zero_crossing_rate(y)\n",
        "  if zero_crossing.shape[1] > 50:\n",
        "    zero_crossing = zero_crossing[:,0:50]\n",
        "  elif zero_crossing.shape[1] < 50:\n",
        "    pad_length = 50 - zero_crossing.shape[1]\n",
        "    zero_crossing = np.pad(zero_crossing,(0,pad_length), constant_values=(0,0))\n",
        "  return zero_crossing"
      ],
      "metadata": {
        "id": "3QSW3JjzJ1rs"
      },
      "execution_count": null,
      "outputs": []
    },
    {
      "cell_type": "markdown",
      "source": [
        "Get Mel Spec"
      ],
      "metadata": {
        "id": "RXT-8THISML-"
      }
    },
    {
      "cell_type": "code",
      "source": [
        "def get_mel_spec(y, sr):\n",
        "  melspect = librosa.feature.melspectrogram(y=y, sr=sr)\n",
        "  melspec_mean = np.mean(melspect, axis=0).reshape(1,-1)\n",
        "  if melspec_mean.shape[1] > 50:\n",
        "    melspec_mean = melspec_mean[:,0:50]\n",
        "  elif melspec_mean.shape[1] < 50:\n",
        "    pad_length = 50 - melspec_mean.shape[1]\n",
        "    melspec_mean = np.pad(melspec_mean,(0,pad_length), constant_values=(0,0))\n",
        "  return melspec_mean"
      ],
      "metadata": {
        "id": "wV1jeH4BJ72x"
      },
      "execution_count": null,
      "outputs": []
    },
    {
      "cell_type": "markdown",
      "source": [
        "Get MFCC"
      ],
      "metadata": {
        "id": "E6Ne_ipJSNmu"
      }
    },
    {
      "cell_type": "code",
      "source": [
        "def get_mfcc(y, sr):\n",
        "  mfcc = librosa.feature.mfcc(y=y, sr=sr)\n",
        "  mfcc_mean = np.mean(mfcc, axis=0).reshape(1,-1)\n",
        "  if mfcc_mean.shape[1] > 50:\n",
        "    mfcc_mean = mfcc_mean[:,0:50]\n",
        "  elif mfcc_mean.shape[1] < 50:\n",
        "    pad_length = 50 - mfcc_mean.shape[1]\n",
        "    mfcc_mean = np.pad(mfcc_mean,(0,pad_length), constant_values=(0,0))\n",
        "  return mfcc_mean"
      ],
      "metadata": {
        "id": "yElyepKOJ_Sw"
      },
      "execution_count": null,
      "outputs": []
    },
    {
      "cell_type": "markdown",
      "source": [
        "Get Spectral Bandwidth"
      ],
      "metadata": {
        "id": "2HmnFC5jSOjP"
      }
    },
    {
      "cell_type": "code",
      "source": [
        "# extract spectral bandwith\n",
        "def get_spec_bw(y, sr):\n",
        "  spec_band = librosa.feature.spectral_bandwidth(y=y, sr=std_sr)\n",
        "  spec_band = spec_band.reshape(1,-1)\n",
        "  if spec_band.shape[1] > 50:\n",
        "    spec_band = spec_band[:,0:50]\n",
        "  elif spec_band.shape[1] < 50:\n",
        "    pad_length = 50 - spec_band.shape[1]\n",
        "    spec_band = np.pad(spec_band,(0,pad_length), constant_values=(0,0))\n",
        "  return spec_band"
      ],
      "metadata": {
        "id": "diG7X_MEKBt_"
      },
      "execution_count": null,
      "outputs": []
    },
    {
      "cell_type": "code",
      "source": [
        "len(file_list)\n",
        "\n",
        "std_sr = 22050\n",
        "\n",
        "data_to_pickle = []\n",
        "\n",
        "for f_name in file_list:\n",
        "  image_f_name = f_name.split('/')[-1].split('.')[0] + '.jpg'\n",
        "  category = emotion_class_dict.get(f_name.split('/')[3])\n",
        "  y, sr = librosa.load(f_name)\n",
        "  zc = get_zero_crossing(y, std_sr)\n",
        "  ms = get_mel_spec(y, std_sr)\n",
        "  mfcc = get_mfcc(y, std_sr)\n",
        "  spec_bw = get_spec_bw(y, std_sr) \n",
        "  audio_arr = np.dstack((zc, ms, mfcc, spec_bw))\n",
        "  audio_arranged = np.moveaxis(audio_arr,[2,0],[0,1])\n",
        "  arr = np.array([audio_arranged, category], dtype=object)\n",
        "  data_to_pickle.append(arr)\n",
        "\n",
        "with open('drive/MyDrive/emotion_ds_25APRL2022.pkl','wb') as f:\n",
        "  pickle.dump(data_to_pickle, f)\n",
        "\n",
        "print('success')"
      ],
      "metadata": {
        "id": "z1Z6GMHQKNPT"
      },
      "execution_count": null,
      "outputs": []
    },
    {
      "cell_type": "markdown",
      "metadata": {
        "id": "qmgTd0RHh4hs"
      },
      "source": [
        "# Create Dataset Class"
      ]
    },
    {
      "cell_type": "code",
      "execution_count": null,
      "metadata": {
        "id": "bKTyhOOjh34H"
      },
      "outputs": [],
      "source": [
        "class audiodata_cnn(Dataset):\n",
        "  def __init__(self, pickled_arr):\n",
        "    self.data = pickled_arr\n",
        "\n",
        "  def __len__(self):\n",
        "    return len(self.data)\n",
        "\n",
        "  def __getitem__(self,index):\n",
        "    audio_tensor = self.data[index]\n",
        "    return audio_tensor[0], audio_tensor[1]"
      ]
    },
    {
      "cell_type": "code",
      "source": [
        "class audiodata_lstm(Dataset):\n",
        "  def __init__(self, pickled_arr):\n",
        "    self.data = pickled_arr\n",
        "\n",
        "  def __len__(self):\n",
        "    return len(self.data)\n",
        "\n",
        "  def __getitem__(self,index):\n",
        "    audio_tensor = self.data[index]\n",
        "    audio_tensor[0][0] = torch.from_numpy(audio_tensor[0][0])\n",
        "    audio_tensor[0][1] = torch.from_numpy(audio_tensor[0][1])\n",
        "    return audio_tensor[0], audio_tensor[1]"
      ],
      "metadata": {
        "id": "3nmQwwniPmje"
      },
      "execution_count": null,
      "outputs": []
    },
    {
      "cell_type": "markdown",
      "metadata": {
        "id": "zwwnUi2Hk1uy"
      },
      "source": [
        "# Create Training, Validation, Test Split\n"
      ]
    },
    {
      "cell_type": "code",
      "execution_count": null,
      "metadata": {
        "id": "LkzxyDkiB1UI"
      },
      "outputs": [],
      "source": [
        "# from torch.utils.data import Subset\n",
        "# from sklearn.model_selection import train_test_split\n"
      ]
    },
    {
      "cell_type": "code",
      "source": [
        "!ls -lah drive/MyDrive/*pkl"
      ],
      "metadata": {
        "colab": {
          "base_uri": "https://localhost:8080/"
        },
        "id": "LemnSGkQddA5",
        "outputId": "0b2a5708-4f77-4e61-f008-e9b6717ab1bb"
      },
      "execution_count": null,
      "outputs": [
        {
          "output_type": "stream",
          "name": "stdout",
          "text": [
            "-rw------- 1 root root  11M Apr 26 05:59 drive/MyDrive/emotion_ds_25APR2022.pkl\n",
            "-rw------- 1 root root  64M Apr 26 21:20 drive/MyDrive/emotion_ds_26APR2022_noisier.pkl\n",
            "-rw------- 1 root root  53M Apr 27 01:27 drive/MyDrive/emotion_ds_26APR2022_noisy_50sec.pkl\n",
            "-rw------- 1 root root  64M Apr 26 17:14 drive/MyDrive/emotion_ds_26APR2022_noisy.pkl\n",
            "-rw------- 1 root root  64M Apr 26 16:31 drive/MyDrive/emotion_ds_26APR2022.pkl\n",
            "-rw------- 1 root root  11M Apr 27 08:03 drive/MyDrive/emotion_ds_27APR2022_20MFCC_noisy.pkl\n",
            "-rw------- 1 root root  66M Apr 27 09:23 drive/MyDrive/emotion_ds_27APR2022_50Mel_noisy.pkl\n",
            "-rw------- 1 root root  95M Apr 27 18:49 drive/MyDrive/emotion_ds_27APR2022_noisy_30X60.pkl\n",
            "-rw------- 1 root root 131M Apr 27 23:35 drive/MyDrive/emotion_ds_27APR2022_noisy_50X50.pkl\n",
            "-rw------- 1 root root 442M Apr 25 18:35 drive/MyDrive/emotion_ds_4cat.pkl\n",
            "-rw------- 1 root root 699M Apr 19 20:26 drive/MyDrive/emotion_ds.pkl\n",
            "-rw------- 1 root root 699M Apr 19 20:27 drive/MyDrive/emotion_list_ds.pkl\n"
          ]
        }
      ]
    },
    {
      "cell_type": "code",
      "execution_count": null,
      "metadata": {
        "id": "U2WvD_Polacl"
      },
      "outputs": [],
      "source": [
        "with open('drive/MyDrive/emotion_ds_26APR2022_noisy.pkl','rb') as f:\n",
        "  audio_arr = pickle.load(f)"
      ]
    },
    {
      "cell_type": "code",
      "source": [
        "# create cnn dataset \n",
        "dataset = audiodata_cnn(audio_arr)\n",
        "num_items = len(dataset)\n",
        "num_train = round(num_items * 0.8)\n",
        "num_val = num_items - num_train\n",
        "train_ds, val_ds = random_split(dataset, [num_train, num_val])\n",
        "\n",
        "train_dl_cnn = torch.utils.data.DataLoader(train_ds, batch_size=64, shuffle=True, drop_last=True)\n",
        "val_dl_cnn = torch.utils.data.DataLoader(val_ds, batch_size=64, shuffle=False, drop_last=True)\n",
        "\n",
        "train_dl_cnn.pin_memory=True"
      ],
      "metadata": {
        "id": "dVq4HJ5LTNlu"
      },
      "execution_count": null,
      "outputs": []
    },
    {
      "cell_type": "code",
      "execution_count": null,
      "metadata": {
        "id": "AWoBLdDXDMkC"
      },
      "outputs": [],
      "source": [
        "# create lstm dataset for when training lstm\n",
        "dataset = audiodata_lstm(audio_arr)\n",
        "num_items = len(dataset)\n",
        "num_train = round(num_items * 0.8)\n",
        "num_val = num_items - num_train\n",
        "train_ds, val_ds = random_split(dataset, [num_train, num_val])\n",
        "\n",
        "train_dl_lstm = torch.utils.data.DataLoader(train_ds, batch_size=64, shuffle=True, drop_last=True)\n",
        "val_dl_lstm = torch.utils.data.DataLoader(val_ds, batch_size=64, shuffle=False, drop_last=True)\n",
        "\n",
        "train_dl_lstm.pin_memory=True"
      ]
    },
    {
      "cell_type": "code",
      "source": [
        "# check dataset\n",
        "images, labels = next(iter(train_dl_lstm))\n",
        "print('original images shape:', images.shape)"
      ],
      "metadata": {
        "colab": {
          "base_uri": "https://localhost:8080/"
        },
        "id": "zfioH5Ep3HAl",
        "outputId": "e6f25c30-9274-414e-c4d6-931b3b3fdcac"
      },
      "execution_count": null,
      "outputs": [
        {
          "output_type": "stream",
          "name": "stdout",
          "text": [
            "original images shape: torch.Size([64, 2, 20, 50])\n"
          ]
        }
      ]
    },
    {
      "cell_type": "markdown",
      "source": [
        "# Create Models"
      ],
      "metadata": {
        "id": "zjKy5OEnK2-m"
      }
    },
    {
      "cell_type": "markdown",
      "source": [
        "### CNN 1D"
      ],
      "metadata": {
        "id": "oIzmGWKMO0td"
      }
    },
    {
      "cell_type": "code",
      "source": [
        "# create NN model\n",
        "\n",
        "import torch.nn.functional as F\n",
        "from torch.nn import init\n",
        "import torch.nn as nn\n",
        "\n",
        "\n",
        "class AudioEmotionClassifier(nn.Module):\n",
        "  def __init__(self, debug=False):\n",
        "    super(AudioEmotionClassifier, self).__init__()\n",
        "    self.debug=debug\n",
        "    \n",
        "    self.conv_layers = []\n",
        "\n",
        "    # first convolutional layer\n",
        "    self.conv1 = nn.Conv1d(4,16,kernel_size=5,stride=2,padding=1)\n",
        "    self.conv1.bias.data.zero_()\n",
        "    self.bn1 = nn.BatchNorm1d(16)\n",
        "    self.relu1 = nn.ReLU()\n",
        "    self.dropout1 = nn.Dropout(0.5)\n",
        "\n",
        "    self.conv_layers += [self.conv1, self.bn1, self.relu1, self.dropout1]\n",
        "\n",
        "    # second convolutional layer\n",
        "    self.conv2 = nn.Conv1d(16,32,kernel_size=5,stride=2,padding=1)\n",
        "    self.conv2.bias.data.zero_()\n",
        "    self.bn2 = nn.BatchNorm1d(32)\n",
        "    self.relu2 = nn.ReLU()\n",
        "    self.dropout2 = nn.Dropout(0.5)\n",
        "    self.conv_layers += [self.conv2, self.bn2, self.relu2, self.dropout2]\n",
        "\n",
        "    # third convolutional layer\n",
        "    self.conv3 = nn.Conv1d(32,64,kernel_size=5,stride=2,padding=1)\n",
        "    self.conv3.bias.data.zero_()\n",
        "    self.bn3 = nn.BatchNorm1d(64)\n",
        "    self.relu3 = nn.ReLU()\n",
        "    self.dropout3 = nn.Dropout(0.5)\n",
        "\n",
        "    self.conv_layers += [self.conv3, self.bn3, self.relu3, self.dropout3]\n",
        "\n",
        "    # fully connected layer\n",
        "    self.flatten = nn.Flatten(start_dim=1)\n",
        "    self.dropoutfc1 = nn.Dropout(0.5)\n",
        "    self.fc1 = nn.Linear(320,128)\n",
        "    self.dropoutfc2 = nn.Dropout(0.5)\n",
        "    self.fc2 = nn.Linear(128,4)\n",
        "\n",
        "    # Softmax layer\n",
        "    self.output = nn.LogSoftmax(dim=1)\n",
        "\n",
        "    self.conv = nn.Sequential(*self.conv_layers)\n",
        "\n",
        "  def forward(self, x):\n",
        "    # forward pass\n",
        "    x = self.conv(x)\n",
        "    x = self.flatten(x)\n",
        "    x = self.dropoutfc1(F.relu(self.fc1(x)))\n",
        "    x = self.dropoutfc2(F.relu(self.fc2(x)))\n",
        "    x = self.output(x)\n",
        "\n",
        "    # Final output\n",
        "    return x\n"
      ],
      "metadata": {
        "id": "TJapdD_wdr0z"
      },
      "execution_count": null,
      "outputs": []
    },
    {
      "cell_type": "markdown",
      "source": [
        "### CNN 1D 2\n"
      ],
      "metadata": {
        "id": "X-6z3bpzO5xR"
      }
    },
    {
      "cell_type": "code",
      "source": [
        "# create NN model\n",
        "\n",
        "import torch.nn.functional as F\n",
        "from torch.nn import init\n",
        "import torch.nn as nn\n",
        "\n",
        "\n",
        "class AudioEmotionClassifier2(nn.Module):\n",
        "  def __init__(self, debug=False):\n",
        "    super(AudioEmotionClassifier2, self).__init__()\n",
        "    self.debug=debug\n",
        "    \n",
        "    self.conv_layers = []\n",
        "\n",
        "    # first convolutional layer\n",
        "    self.conv1 = nn.Conv1d(4,16,kernel_size=3,stride=2)\n",
        "    self.bn1 = nn.BatchNorm1d(16)\n",
        "    self.relu1 = nn.ReLU()\n",
        "    self.dropout1 = nn.Dropout(0.5)\n",
        "\n",
        "    self.conv_layers += [self.conv1, self.bn1, self.relu1, self.dropout1]\n",
        "\n",
        "    # second convolutional layer\n",
        "    self.conv2 = nn.Conv1d(16,32,kernel_size=3,stride=2)\n",
        "    # self.conv2.bias.data.zero_()\n",
        "    self.bn2 = nn.BatchNorm1d(32)\n",
        "    self.relu2 = nn.ReLU()\n",
        "    self.dropout2 = nn.Dropout(0.5)\n",
        "    self.conv_layers += [self.conv2, self.bn2, self.relu2, self.dropout2]\n",
        "\n",
        "    # third convolutional layer\n",
        "    self.conv3 = nn.Conv1d(32,64,kernel_size=5,stride=2,padding=1)\n",
        "    # self.conv3.bias.data.zero_()\n",
        "    self.bn3 = nn.BatchNorm1d(64)\n",
        "    self.relu3 = nn.ReLU()\n",
        "    self.dropout3 = nn.Dropout(0.5)\n",
        "\n",
        "    self.conv_layers += [self.conv3, self.bn3, self.relu3, self.dropout3]\n",
        "\n",
        "    # fourth convolutional layer\n",
        "    self.conv4 = nn.Conv1d(128,256,kernel_size=5,stride=2,padding=1)\n",
        "    # self.conv3.bias.data.zero_()\n",
        "    self.bn4 = nn.BatchNorm1d(256)\n",
        "    self.relu4 = nn.ReLU()\n",
        "    self.dropout4 = nn.Dropout(0.5)\n",
        "\n",
        "    self.conv_layers += [self.conv4, self.bn4, self.relu4, self.dropout3]\n",
        "\n",
        "\n",
        "    # fully connected layer\n",
        "    self.flatten = nn.Flatten(start_dim=1)\n",
        "    self.dropoutfc1 = nn.Dropout(0.5)\n",
        "    self.fc1 = nn.Linear(512, 4)\n",
        "\n",
        "\n",
        "    # Softmax layer\n",
        "    self.output = nn.LogSoftmax(dim=1)\n",
        "\n",
        "    self.conv = nn.Sequential(*self.conv_layers)\n",
        "\n",
        "  def forward(self, x):\n",
        "    # forward pass\n",
        "    x = self.conv(x)\n",
        "    x = self.flatten(x)\n",
        "    x = self.dropoutfc1(F.relu(self.fc1(x)))\n",
        "    x = self.output(x)\n",
        "\n",
        "    # Final output\n",
        "    return x\n"
      ],
      "metadata": {
        "id": "UpKaxCe761c_"
      },
      "execution_count": null,
      "outputs": []
    },
    {
      "cell_type": "markdown",
      "source": [
        "### CNN 2D"
      ],
      "metadata": {
        "id": "UX21nw75O_-D"
      }
    },
    {
      "cell_type": "code",
      "source": [
        "# create NN model\n",
        "\n",
        "import torch.nn.functional as F\n",
        "from torch.nn import init\n",
        "import torch.nn as nn\n",
        "\n",
        "class AudioEmotionClassifierCNN(nn.Module):\n",
        "  def __init__(self, debug=False):\n",
        "    super(AudioEmotionClassifierCNN, self).__init__()\n",
        "    self.debug=debug\n",
        "\n",
        "    self.conv_layers = []\n",
        "\n",
        "    # first convolutional layer\n",
        "    self.conv1 = nn.Conv2d(2,16,kernel_size=(2,5),stride=2)\n",
        "    self.bn1 = nn.BatchNorm2d(16)\n",
        "    self.conv1.bias.data.zero_()\n",
        "    self.dropout1 = nn.Dropout()\n",
        "    self.relu1 = nn.ReLU()\n",
        "\n",
        "    self.conv_layers += [self.conv1, self.bn1, self.dropout1, self.relu1]\n",
        "\n",
        "    # second convolutional layer\n",
        "    self.conv2 = nn.Conv2d(16,64,kernel_size=(2,5), stride=2)\n",
        "    self.bn2 = nn.BatchNorm2d(64)\n",
        "    self.conv2.bias.data.zero_()\n",
        "    self.dropout2 = nn.Dropout()\n",
        "    self.relu2 = nn.ReLU()\n",
        "    self.maxpool2 = nn.MaxPool2d(2,2)\n",
        "\n",
        "    self.conv_layers += [self.conv2, self.bn2, self.dropout2, self.relu2, self.maxpool2]\n",
        "\n",
        "    # third convolutional layer\n",
        "    self.conv3 = nn.Conv2d(64,128,kernel_size=(2,5), stride=2)\n",
        "    self.bn3 = nn.BatchNorm2d(128)\n",
        "    self.conv3.bias.data.zero_()\n",
        "    self.dropout3 = nn.Dropout()\n",
        "    self.relu3 = nn.ReLU()\n",
        "\n",
        "    self.conv_layers += [self.conv3, self.bn3, self.dropout3, self.relu3]\n",
        "\n",
        "    # dropout\n",
        "    self.fc1 = nn.Dropout()\n",
        "\n",
        "    # fully connected layer\n",
        "    self.flatten = nn.Flatten()\n",
        "    self.fc1 = nn.Linear(128,4)\n",
        "    self.dropoutfc1 = nn.Dropout()\n",
        "\n",
        "    # Softmax layer\n",
        "    self.output = nn.LogSoftmax(dim=1)\n",
        "\n",
        "    self.conv = nn.Sequential(*self.conv_layers)\n",
        "\n",
        "  def forward(self, x):\n",
        "    x = self.conv(x)\n",
        "    x = self.flatten(x)\n",
        "    x = F.relu(self.dropoutfc1(self.fc1(x)))\n",
        "    x = self.output(x)\n",
        "\n",
        "    # Final output\n",
        "    return x\n"
      ],
      "metadata": {
        "id": "YBa0hVixuWM8"
      },
      "execution_count": null,
      "outputs": []
    },
    {
      "cell_type": "markdown",
      "source": [
        "### LSTM"
      ],
      "metadata": {
        "id": "uJQrr5QHPCjP"
      }
    },
    {
      "cell_type": "code",
      "source": [
        "# https://www.kaggle.com/code/andradaolteanu/pytorch-rnns-and-lstms-explained-acc-0-99/notebook#4.-Multilayer-RNNs-%F0%9F%93%9A\n",
        "class LSTM_Audio(nn.Module):\n",
        "    def __init__(self, input_size, hidden_size, layer_size, output_size,device, bidirectional=True):\n",
        "        super(LSTM_Audio, self).__init__()\n",
        "        \n",
        "        self.input_size, self.hidden_size, self.layer_size, self.output_size = input_size, hidden_size, layer_size, output_size\n",
        "        self.bidirectional = bidirectional\n",
        "        \n",
        "        # Step1: the LSTM model\n",
        "        self.lstm = nn.LSTM(input_size, hidden_size, layer_size, batch_first=True, bidirectional=bidirectional)\n",
        "        \n",
        "        # Step2: the FNN\n",
        "        if bidirectional: # we'll have 2 more layers\n",
        "            self.layer = nn.Linear(hidden_size*2, output_size)\n",
        "        else:\n",
        "            self.layer = nn.Linear(hidden_size, output_size)\n",
        "            \n",
        "            \n",
        "    def forward(self, images, prints=False):\n",
        "        if prints: print('images shape:', images.shape)\n",
        "        \n",
        "        # Set initial states\n",
        "        if self.bidirectional:\n",
        "            # Hidden state:\n",
        "            hidden_state = torch.zeros(self.layer_size*2, images.size(0), self.hidden_size, device=device)\n",
        "            # Cell state:\n",
        "            cell_state = torch.zeros(self.layer_size*2, images.size(0), self.hidden_size, device=device)\n",
        "        else:\n",
        "            # Hidden state:\n",
        "            hidden_state = torch.zeros(self.layer_size, images.size(0), self.hidden_size, device=device)\n",
        "            # Cell state:\n",
        "            cell_state = torch.zeros(self.layer_size, images.size(0), self.hidden_size, device=device)\n",
        "        if prints: print('hidden_state t0 shape:', hidden_state.shape, '\\n' +\n",
        "                         'cell_state t0 shape:', cell_state.shape)\n",
        "        \n",
        "        # LSTM:\n",
        "        output, (last_hidden_state, last_cell_state) = self.lstm(images, (hidden_state, cell_state))\n",
        "        # if prints: print('LSTM: output shape:', output.shape, '\\n' +\n",
        "        #                  'LSTM: last_hidden_state shape:', last_hidden_state.shape, '\\n' +\n",
        "        #                  'LSTM: last_cell_state shape:', last_cell_state.shape)\n",
        "        # # Reshape\n",
        "        output = output[:, -1, :]\n",
        "        if prints: print('output reshape:', output.shape)\n",
        "        \n",
        "        # FNN:\n",
        "        output = self.layer(output)\n",
        "        if prints: print('FNN: Final output shape:', output.shape)\n",
        "        \n",
        "        return output"
      ],
      "metadata": {
        "id": "sCkN2cP6RJ18"
      },
      "execution_count": null,
      "outputs": []
    },
    {
      "cell_type": "markdown",
      "source": [
        "### CNN + LSTM"
      ],
      "metadata": {
        "id": "4PxQHouP8XvG"
      }
    },
    {
      "cell_type": "code",
      "source": [
        "class CNN_LSTM(nn.Module):\n",
        "    def __init__(self, input_size, hidden_size, layer_size, output_size,device, bidirectional=True):\n",
        "        super(CNN_LSTM, self).__init__()\n",
        "\n",
        "        self.input_size, self.hidden_size, self.layer_size, self.output_size = input_size, hidden_size, layer_size, output_size\n",
        "        self.bidirectional = bidirectional\n",
        "        self.conv_layers = []\n",
        "\n",
        "    # first convolutional layer\n",
        "        self.conv1 = nn.Conv2d(2,16,kernel_size=(2,5),stride=2)\n",
        "        self.bn1 = nn.BatchNorm2d(16)\n",
        "        self.conv1.bias.data.zero_()\n",
        "        self.dropout1 = nn.Dropout()\n",
        "        self.relu1 = nn.ReLU()\n",
        "\n",
        "        self.conv_layers += [self.conv1, self.bn1, self.dropout1, self.relu1]\n",
        "\n",
        "        # second convolutional layer\n",
        "        self.conv2 = nn.Conv2d(16,32,kernel_size=(2,5), stride=2)\n",
        "        self.bn2 = nn.BatchNorm2d(32)\n",
        "        self.conv2.bias.data.zero_()\n",
        "        self.dropout2 = nn.Dropout()\n",
        "        self.relu2 = nn.ReLU()\n",
        "        self.maxpool2 = nn.MaxPool2d(2,3)\n",
        "\n",
        "        self.conv_layers += [self.conv2, self.bn2, self.dropout2, self.relu2, self.maxpool2]\n",
        "            \n",
        "        self.conv = nn.Sequential(*self.conv_layers)\n",
        "\n",
        "        self.flatten = nn.Flatten()\n",
        "\n",
        "        # lstm\n",
        "        self.lstm = nn.LSTM(input_size, hidden_size, layer_size, batch_first=True, bidirectional=bidirectional)\n",
        "        \n",
        "        # fc\n",
        "        if bidirectional: # we'll have 2 more layers\n",
        "            self.layer = nn.Linear(hidden_size*2, output_size)\n",
        "        else:\n",
        "            self.layer = nn.Linear(hidden_size, output_size)\n",
        "            \n",
        "        # # Softmax layer\n",
        "        self.output = nn.LogSoftmax(dim=1)\n",
        "\n",
        "            \n",
        "    def forward(self, x, prints=False):\n",
        "\n",
        "        x = self.conv(x)\n",
        "        x = self.flatten(x)\n",
        "        x = x[:,None,:]\n",
        "\n",
        "        if prints:\n",
        "          print('x shape {}'.format(x.shape))\n",
        "            \n",
        "        # Set initial states\n",
        "        if self.bidirectional:\n",
        "            # Hidden state:\n",
        "            hidden_state = torch.zeros(self.layer_size*2, x.size(0), self.hidden_size, device=device)\n",
        "            # Cell state:\n",
        "            cell_state = torch.zeros(self.layer_size*2, x.size(0), self.hidden_size, device=device)\n",
        "        else:\n",
        "            # Hidden state:\n",
        "            hidden_state = torch.zeros(self.layer_size, x.size(0), self.hidden_size, device=device)\n",
        "            # Cell state:\n",
        "            cell_state = torch.zeros(self.layer_size, x.size(0), self.hidden_size, device=device)\n",
        "        if prints: print('hidden_state t0 shape:', hidden_state.shape, '\\n' +\n",
        "                         'cell_state t0 shape:', cell_state.shape)\n",
        "        \n",
        "        # LSTM:\n",
        "        output, (last_hidden_state, last_cell_state) = self.lstm(x, (hidden_state, cell_state))\n",
        "        if prints: print('LSTM: output shape:', output.shape, '\\n' +\n",
        "                         'LSTM: last_hidden_state shape:', last_hidden_state.shape, '\\n' +\n",
        "                         'LSTM: last_cell_state shape:', last_cell_state.shape)\n",
        "        # Reshape\n",
        "        output = output[:, -1, :]\n",
        "        if prints: print('output reshape:', output.shape)\n",
        "        \n",
        "        # FNN:\n",
        "        output = self.layer(output)\n",
        "\n",
        "        if prints: print('FNN: Final output shape:', output.shape)\n",
        "        \n",
        "        x = self.output(output)\n",
        "\n",
        "        return output"
      ],
      "metadata": {
        "id": "QkLTTIFu8dBV"
      },
      "execution_count": null,
      "outputs": []
    },
    {
      "cell_type": "markdown",
      "source": [
        "# Create Train, Test Functions"
      ],
      "metadata": {
        "id": "VOM9jzKrLDPz"
      }
    },
    {
      "cell_type": "code",
      "source": [
        "def train_epoch(model, device, dataloader, loss_fn, optimizer, scheduler, verbose=False, lstm=False):\n",
        "    train_loss = 0.0\n",
        "    correct_pred = 0\n",
        "    total_pred = 0\n",
        "    if lstm:\n",
        "        model.train()\n",
        "    for tensor, class_label in dataloader:\n",
        "\n",
        "        inputs, labels = tensor.to(device), class_label.to(device)\n",
        "        inputs_m, inputs_s = inputs.mean(), inputs.std()\n",
        "        inputs = (inputs - inputs_m) / inputs_s\n",
        "\n",
        "        optimizer.zero_grad()\n",
        "        pred_prob = model(inputs)\n",
        "        loss = loss_fn(pred_prob, labels)\n",
        "        loss.backward()\n",
        "        optimizer.step()\n",
        "        scheduler.step()\n",
        "\n",
        "        train_loss += loss.item()\n",
        "        _, predicted_class = torch.max(pred_prob, 1)\n",
        "\n",
        "        correct_pred += (predicted_class == labels).sum().item()\n",
        "        total_pred += predicted_class.shape[0]\n",
        "\n",
        "    avg_loss = train_loss / len(dataloader)\n",
        "    accuracy = correct_pred / total_pred\n",
        "\n",
        "    if verbose:\n",
        "        print(f\"Train Error: \\n Accuracy: {(100*accuracy):>0.1f}%, Avg loss: {avg_loss:>8f} \\n\")\n",
        "\n",
        "    return avg_loss, accuracy\n"
      ],
      "metadata": {
        "id": "rUyQiG_0E1Aq"
      },
      "execution_count": null,
      "outputs": []
    },
    {
      "cell_type": "code",
      "execution_count": null,
      "metadata": {
        "id": "1SiunYBYI7zg"
      },
      "outputs": [],
      "source": [
        "def test_epoch(model, device, dataloader, loss_fn, verbose=False):\n",
        "    model.eval()\n",
        "    test_loss = 0.0\n",
        "    correct_prediction = 0\n",
        "    total_prediction = 0\n",
        "\n",
        "    with torch.no_grad():\n",
        "        for data in dataloader:\n",
        "            inputs, labels = data[0].to(device), data[1].to(device)\n",
        "            inputs_m, inputs_s = inputs.mean(), inputs.std()\n",
        "            inputs = (inputs - inputs_m) / inputs_s\n",
        "            \n",
        "            pred_prob = model(inputs)\n",
        "\n",
        "            # Keep stats for Loss and Accuracy\n",
        "            loss = loss_fn(pred_prob, labels)\n",
        "            test_loss += loss\n",
        "\n",
        "            # get highest prediction class\n",
        "            _, prediction = torch.max(pred_prob,1)\n",
        "\n",
        "            correct_prediction += (prediction == labels).sum().item()\n",
        "            total_prediction += prediction.shape[0]\n",
        "            \n",
        "        # Print stats at the end of the epoch\n",
        "        avg_loss = test_loss / len(dataloader)\n",
        "        accuracy = correct_prediction/total_prediction      \n",
        "    \n",
        "    if verbose:\n",
        "        print(f\"Test Error: \\n Accuracy: {(100*accuracy):>0.1f}%, Avg loss: {avg_loss:>8f} \\n\")\n",
        "\n",
        "    return avg_loss, accuracy       \n",
        "\n"
      ]
    },
    {
      "cell_type": "markdown",
      "source": [
        "# Training"
      ],
      "metadata": {
        "id": "uxwn2SCtqesR"
      }
    },
    {
      "cell_type": "code",
      "execution_count": null,
      "metadata": {
        "colab": {
          "base_uri": "https://localhost:8080/"
        },
        "id": "ZjpB_7X4HZGw",
        "outputId": "0091cbd8-c06b-4f9e-dd5e-e76082638f7e"
      },
      "outputs": [
        {
          "output_type": "execute_result",
          "data": {
            "text/plain": [
              "device(type='cuda')"
            ]
          },
          "metadata": {},
          "execution_count": 12
        }
      ],
      "source": [
        "# use cuda\n",
        "torch.cuda.get_device_name(0)\n",
        "device = torch.device('cuda' if torch.cuda.is_available() else 'cpu')\n",
        "torch.backends.cudnn.benchmark = True\n",
        "device"
      ]
    },
    {
      "cell_type": "markdown",
      "source": [
        "### CNN"
      ],
      "metadata": {
        "id": "vt95EYuoiuoq"
      }
    },
    {
      "cell_type": "code",
      "execution_count": null,
      "metadata": {
        "id": "dz3CuwvYQqik",
        "colab": {
          "base_uri": "https://localhost:8080/"
        },
        "outputId": "c0a11028-652e-4546-f21a-610fb6126df4"
      },
      "outputs": [
        {
          "output_type": "execute_result",
          "data": {
            "text/plain": [
              "device(type='cuda', index=0)"
            ]
          },
          "metadata": {},
          "execution_count": 13
        }
      ],
      "source": [
        "# create instance of model of CNN\n",
        "AudioEmotionClassifierModelCNN = AudioEmotionClassifierCNN()\n",
        "AudioEmotionClassifierModelCNN = AudioEmotionClassifierModelCNN.to(device)\n",
        "next(AudioEmotionClassifierModelCNN.parameters()).device"
      ]
    },
    {
      "cell_type": "code",
      "execution_count": null,
      "metadata": {
        "colab": {
          "base_uri": "https://localhost:8080/"
        },
        "id": "hvdrwW_d14Ov",
        "outputId": "0f7369cb-7e93-4fb0-c509-d3fc188813f5"
      },
      "outputs": [
        {
          "output_type": "stream",
          "name": "stdout",
          "text": [
            "Model's state_dict:\n",
            "conv1.weight \t torch.Size([16, 2, 2, 5])\n",
            "conv1.bias \t torch.Size([16])\n",
            "bn1.weight \t torch.Size([16])\n",
            "bn1.bias \t torch.Size([16])\n",
            "bn1.running_mean \t torch.Size([16])\n",
            "bn1.running_var \t torch.Size([16])\n",
            "bn1.num_batches_tracked \t torch.Size([])\n",
            "conv2.weight \t torch.Size([64, 16, 2, 5])\n",
            "conv2.bias \t torch.Size([64])\n",
            "bn2.weight \t torch.Size([64])\n",
            "bn2.bias \t torch.Size([64])\n",
            "bn2.running_mean \t torch.Size([64])\n",
            "bn2.running_var \t torch.Size([64])\n",
            "bn2.num_batches_tracked \t torch.Size([])\n",
            "conv3.weight \t torch.Size([128, 64, 2, 5])\n",
            "conv3.bias \t torch.Size([128])\n",
            "bn3.weight \t torch.Size([128])\n",
            "bn3.bias \t torch.Size([128])\n",
            "bn3.running_mean \t torch.Size([128])\n",
            "bn3.running_var \t torch.Size([128])\n",
            "bn3.num_batches_tracked \t torch.Size([])\n",
            "fc1.weight \t torch.Size([4, 128])\n",
            "fc1.bias \t torch.Size([4])\n",
            "conv.0.weight \t torch.Size([16, 2, 2, 5])\n",
            "conv.0.bias \t torch.Size([16])\n",
            "conv.1.weight \t torch.Size([16])\n",
            "conv.1.bias \t torch.Size([16])\n",
            "conv.1.running_mean \t torch.Size([16])\n",
            "conv.1.running_var \t torch.Size([16])\n",
            "conv.1.num_batches_tracked \t torch.Size([])\n",
            "conv.4.weight \t torch.Size([64, 16, 2, 5])\n",
            "conv.4.bias \t torch.Size([64])\n",
            "conv.5.weight \t torch.Size([64])\n",
            "conv.5.bias \t torch.Size([64])\n",
            "conv.5.running_mean \t torch.Size([64])\n",
            "conv.5.running_var \t torch.Size([64])\n",
            "conv.5.num_batches_tracked \t torch.Size([])\n",
            "conv.9.weight \t torch.Size([128, 64, 2, 5])\n",
            "conv.9.bias \t torch.Size([128])\n",
            "conv.10.weight \t torch.Size([128])\n",
            "conv.10.bias \t torch.Size([128])\n",
            "conv.10.running_mean \t torch.Size([128])\n",
            "conv.10.running_var \t torch.Size([128])\n",
            "conv.10.num_batches_tracked \t torch.Size([])\n"
          ]
        }
      ],
      "source": [
        "# Print model's state_dict\n",
        "print(\"Model's state_dict:\")\n",
        "for param_tensor in AudioEmotionClassifierModelCNN.state_dict():\n",
        "    print(param_tensor, \"\\t\", AudioEmotionClassifierModelCNN.state_dict()[param_tensor].size())"
      ]
    },
    {
      "cell_type": "code",
      "source": [
        "# training cnn\n",
        "num_epochs = 15\n",
        "lr = 0.001\n",
        "# criterion = nn.CrossEntropyLoss()\n",
        "criterion = nn.NLLLoss()\n",
        "optimizer = torch.optim.Adam(AudioEmotionClassifierModelCNN.parameters(),lr=lr)\n",
        "scheduler = torch.optim.lr_scheduler.OneCycleLR(optimizer, max_lr=lr,\n",
        "                                                steps_per_epoch=int(len(train_dl_cnn)),\n",
        "                                                epochs=num_epochs,\n",
        "                                                anneal_strategy='linear')\n",
        "\n",
        "train_test_loss = {'train_loss':[],'val_loss':[]}\n",
        "train_test_accuracy = {'train_accuracy':[],'val_accuracy':[]}\n",
        "\n",
        "for epoch in range(num_epochs):\n",
        "    print('Epoch {}'.format(epoch + 1))\n",
        "    train_loss, train_acc = train_epoch(AudioEmotionClassifierModelCNN, device, train_dl_cnn, criterion, optimizer, scheduler, lstm=False)\n",
        "    test_loss, test_acc = test_epoch(AudioEmotionClassifierModelCNN, device, val_dl_cnn, criterion) \n",
        "    train_test_loss['train_loss'].append(train_loss)\n",
        "    train_test_accuracy['train_accuracy'].append(train_acc)\n",
        "    train_test_loss['val_loss'].append(test_loss.cpu())\n",
        "    train_test_accuracy['val_accuracy'].append(test_acc)\n",
        "    print('Train loss: {:.2f}, Test Loss'.format(train_loss, test_loss))\n",
        "    print('Train accuracy: {:.2f}, Test accuracy {:.2f}'.format(train_acc, test_acc))\n",
        "    print('___________________________')\n"
      ],
      "metadata": {
        "colab": {
          "base_uri": "https://localhost:8080/"
        },
        "id": "TG7u3D45dtxY",
        "outputId": "8da0e686-7134-4a5b-ef39-771cf9fe4e1b"
      },
      "execution_count": null,
      "outputs": [
        {
          "output_type": "stream",
          "name": "stdout",
          "text": [
            "Epoch 1\n",
            "Train loss: 1.46, Test Loss\n",
            "Train accuracy: 0.25, Test accuracy 0.28\n",
            "___________________________\n",
            "Epoch 2\n",
            "Train loss: 1.23, Test Loss\n",
            "Train accuracy: 0.46, Test accuracy 0.57\n",
            "___________________________\n",
            "Epoch 3\n",
            "Train loss: 0.95, Test Loss\n",
            "Train accuracy: 0.60, Test accuracy 0.65\n",
            "___________________________\n",
            "Epoch 4\n",
            "Train loss: 0.82, Test Loss\n",
            "Train accuracy: 0.64, Test accuracy 0.67\n",
            "___________________________\n",
            "Epoch 5\n",
            "Train loss: 0.77, Test Loss\n",
            "Train accuracy: 0.66, Test accuracy 0.70\n",
            "___________________________\n",
            "Epoch 6\n",
            "Train loss: 0.71, Test Loss\n",
            "Train accuracy: 0.69, Test accuracy 0.68\n",
            "___________________________\n",
            "Epoch 7\n",
            "Train loss: 0.69, Test Loss\n",
            "Train accuracy: 0.70, Test accuracy 0.71\n",
            "___________________________\n",
            "Epoch 8\n",
            "Train loss: 0.66, Test Loss\n",
            "Train accuracy: 0.72, Test accuracy 0.70\n",
            "___________________________\n",
            "Epoch 9\n",
            "Train loss: 0.64, Test Loss\n",
            "Train accuracy: 0.74, Test accuracy 0.69\n",
            "___________________________\n",
            "Epoch 10\n",
            "Train loss: 0.61, Test Loss\n",
            "Train accuracy: 0.75, Test accuracy 0.71\n",
            "___________________________\n",
            "Epoch 11\n",
            "Train loss: 0.59, Test Loss\n",
            "Train accuracy: 0.76, Test accuracy 0.72\n",
            "___________________________\n",
            "Epoch 12\n",
            "Train loss: 0.57, Test Loss\n",
            "Train accuracy: 0.77, Test accuracy 0.72\n",
            "___________________________\n",
            "Epoch 13\n",
            "Train loss: 0.55, Test Loss\n",
            "Train accuracy: 0.78, Test accuracy 0.73\n",
            "___________________________\n",
            "Epoch 14\n",
            "Train loss: 0.53, Test Loss\n",
            "Train accuracy: 0.79, Test accuracy 0.72\n",
            "___________________________\n",
            "Epoch 15\n",
            "Train loss: 0.52, Test Loss\n",
            "Train accuracy: 0.80, Test accuracy 0.73\n",
            "___________________________\n"
          ]
        }
      ]
    },
    {
      "cell_type": "markdown",
      "source": [
        "#### Evaluation Metrics"
      ],
      "metadata": {
        "id": "8j3xOJ7Ad7rK"
      }
    },
    {
      "cell_type": "code",
      "source": [
        "save_path = 'drive/MyDrive/SER_charts/'"
      ],
      "metadata": {
        "id": "Lg6iR7qOjFCO"
      },
      "execution_count": null,
      "outputs": []
    },
    {
      "cell_type": "code",
      "source": [
        "sn.set()\n",
        "fig = plt.figure(figsize=(8,6))\n",
        "plt.title('Train and Test Loss of CNN')\n",
        "plt.plot(range(epoch+1),train_test_loss['train_loss'], label = 'Train')\n",
        "plt.plot(range(epoch+1), train_test_loss['val_loss'], label = 'Test')\n",
        "plt.legend()\n",
        "plt.show()\n",
        "# fig = plt.savefig(save_path + 'Train_Test_loss_cnn.png')"
      ],
      "metadata": {
        "colab": {
          "base_uri": "https://localhost:8080/",
          "height": 393
        },
        "id": "kDQEfJJzAABt",
        "outputId": "79ef720b-465a-4837-d26f-2b5fb881f027"
      },
      "execution_count": null,
      "outputs": [
        {
          "output_type": "display_data",
          "data": {
            "text/plain": [
              "<Figure size 576x432 with 1 Axes>"
            ],
            "image/png": "[encoded data removed]"
          },
          "metadata": {}
        }
      ]
    },
    {
      "cell_type": "code",
      "source": [
        "fig1 = plt.figure(figsize=(8,6))\n",
        "plt.title('Train and Test Accuracy of CNN')\n",
        "plt.plot(range(epoch+1),train_test_accuracy['train_accuracy'], label = 'Train')\n",
        "plt.plot(range(epoch+1), train_test_accuracy['val_accuracy'], label = 'Test')\n",
        "plt.legend()\n",
        "plt.show()\n",
        "# fig1.savefig(save_path + 'Train_test_acc_CNN.png')"
      ],
      "metadata": {
        "id": "_U0F9z_lTis_",
        "colab": {
          "base_uri": "https://localhost:8080/",
          "height": 393
        },
        "outputId": "83d7f0d3-4d70-4a4e-b0c8-d43b83351813"
      },
      "execution_count": null,
      "outputs": [
        {
          "output_type": "display_data",
          "data": {
            "text/plain": [
              "<Figure size 576x432 with 1 Axes>"
            ],
            "image/png": "[encoded data removed]"
          },
          "metadata": {}
        }
      ]
    },
    {
      "cell_type": "code",
      "execution_count": null,
      "metadata": {
        "id": "2agF8L879zAn"
      },
      "outputs": [],
      "source": [
        "# # # save model\n",
        "# model_path = 'drive/MyDrive/audio_emotion_CNN27APR2022_Final.pt'\n",
        "# torch.save(AudioEmotionClassifierModelCNN.state_dict(), model_path)"
      ]
    },
    {
      "cell_type": "code",
      "source": [
        "# get confusion matrix\n",
        "def get_eval_met(model, dataloader):\n",
        "    model.eval()\n",
        "\n",
        "    pred, actuals = [], []\n",
        "\n",
        "    with torch.no_grad():\n",
        "        for data in dataloader:\n",
        "            temp_list =[]\n",
        "            inputs, labels = data[0].to(device), data[1].to(device)\n",
        "            inputs_m, inputs_s = inputs.mean(), inputs.std()\n",
        "            inputs = (inputs - inputs_m) / inputs_s\n",
        "            \n",
        "            pred_prob = model(inputs)\n",
        "\n",
        "            # get highest prediction class\n",
        "            _, prediction = torch.max(pred_prob,1)\n",
        "            prediction_cpu = prediction.data.cpu()\n",
        "      \n",
        "            \n",
        "            pred_list = [i.cpu().item() for i in prediction]\n",
        "            label_list = [i.cpu().item() for i in labels]\n",
        "\n",
        "            pred += pred_list\n",
        "            actuals += label_list\n",
        "\n",
        "    acc = sklearn.metrics.accuracy_score(actuals, pred)\n",
        "    prf = sklearn.metrics.precision_recall_fscore_support(actuals, pred, labels=[0,1,2,3], average=\"macro\")\n",
        "    cm = sklearn.metrics.confusion_matrix(pred, actuals)\n",
        "    return acc, prf, cm\n"
      ],
      "metadata": {
        "id": "MEAHhDTYejha"
      },
      "execution_count": null,
      "outputs": []
    },
    {
      "cell_type": "code",
      "source": [
        "acc, prf, cm = get_eval_met(AudioEmotionClassifierModelCNN, val_dl_cnn)\n",
        "df_cm_CNN = pd.DataFrame(cm,\n",
        "                            index=[\"neutral\", \"happy\", \"sad\", \"angry\"],\n",
        "                            columns=[\"neutral\", \"happy\", \"sad\", \"angry\"])\n",
        "\n",
        "\n",
        "fig = plt.figure(figsize=(10, 7))\n",
        "sn.set(font_scale=1.4)\n",
        "sn.heatmap(df_cm_CNN, annot=True, fmt=\"d\", cmap=\"YlGnBu\")\n",
        "plt.xlabel(\"Predicted\")\n",
        "plt.ylabel(\"Actual\")\n",
        "plt.title(\"2D CNN\")\n",
        "plt.show()\n",
        "fig.savefig(save_path + 'CM_CNN.jpg')\n",
        "\n",
        "print(acc)\n",
        "print(prf)"
      ],
      "metadata": {
        "colab": {
          "base_uri": "https://localhost:8080/",
          "height": 513
        },
        "id": "jt2OCAOhtywa",
        "outputId": "fbcbf543-f993-4baa-fae8-bb4812a057e0"
      },
      "execution_count": null,
      "outputs": [
        {
          "output_type": "display_data",
          "data": {
            "text/plain": [
              "<Figure size 720x504 with 2 Axes>"
            ],
            "image/png": "[encoded data removed]"
          },
          "metadata": {}
        },
        {
          "output_type": "stream",
          "name": "stdout",
          "text": [
            "0.75\n",
            "(0.7425784206610223, 0.7431050600710136, 0.7406317412619933, None)\n"
          ]
        }
      ]
    },
    {
      "cell_type": "markdown",
      "source": [
        "### CNN-LSTM"
      ],
      "metadata": {
        "id": "kIPGbB13i73p"
      }
    },
    {
      "cell_type": "code",
      "source": [
        "# create instance of model of LSTM\n",
        "batch_size = 64\n",
        "input_size = 256\n",
        "hidden_size = 128\n",
        "layer_size = 1       \n",
        "output_size = 4\n",
        "\n",
        "AudioEmotionClassifierModel_LSTM = CNN_LSTM(input_size, hidden_size, layer_size, output_size, device)\n",
        "AudioEmotionClassifierModel_LSTM = AudioEmotionClassifierModel_LSTM.to(device)\n",
        "next(AudioEmotionClassifierModel_LSTM.parameters()).device\n"
      ],
      "metadata": {
        "colab": {
          "base_uri": "https://localhost:8080/"
        },
        "id": "NA0uPmhmEe1l",
        "outputId": "25ae8828-33fa-4925-931a-80e8f65f4e84"
      },
      "execution_count": null,
      "outputs": [
        {
          "output_type": "execute_result",
          "data": {
            "text/plain": [
              "device(type='cuda', index=0)"
            ]
          },
          "metadata": {},
          "execution_count": 514
        }
      ]
    },
    {
      "cell_type": "code",
      "execution_count": null,
      "metadata": {
        "id": "9LVOg3Htn_zO",
        "colab": {
          "base_uri": "https://localhost:8080/"
        },
        "outputId": "6cd98a36-f39d-41fa-f106-a5ec77df7e5f"
      },
      "outputs": [
        {
          "output_type": "stream",
          "name": "stdout",
          "text": [
            "Epoch 1\n",
            "Train loss: 1.37, Test Loss 1.35\n",
            "Train accuracy: 0.31, Test accuracy 0.46\n",
            "___________________________\n",
            "Epoch 2\n",
            "Train loss: 1.32, Test Loss 1.26\n",
            "Train accuracy: 0.41, Test accuracy 0.51\n",
            "___________________________\n",
            "Epoch 3\n",
            "Train loss: 1.21, Test Loss 1.13\n",
            "Train accuracy: 0.46, Test accuracy 0.53\n",
            "___________________________\n",
            "Epoch 4\n",
            "Train loss: 1.12, Test Loss 1.02\n",
            "Train accuracy: 0.51, Test accuracy 0.60\n",
            "___________________________\n",
            "Epoch 5\n",
            "Train loss: 1.05, Test Loss 0.94\n",
            "Train accuracy: 0.55, Test accuracy 0.63\n",
            "___________________________\n",
            "Epoch 6\n",
            "Train loss: 1.00, Test Loss 0.88\n",
            "Train accuracy: 0.59, Test accuracy 0.65\n",
            "___________________________\n",
            "Epoch 7\n",
            "Train loss: 0.95, Test Loss 0.84\n",
            "Train accuracy: 0.60, Test accuracy 0.66\n",
            "___________________________\n",
            "Epoch 8\n",
            "Train loss: 0.91, Test Loss 0.79\n",
            "Train accuracy: 0.61, Test accuracy 0.66\n",
            "___________________________\n",
            "Epoch 9\n",
            "Train loss: 0.88, Test Loss 0.76\n",
            "Train accuracy: 0.63, Test accuracy 0.67\n",
            "___________________________\n",
            "Epoch 10\n",
            "Train loss: 0.86, Test Loss 0.75\n",
            "Train accuracy: 0.64, Test accuracy 0.67\n",
            "___________________________\n",
            "Epoch 11\n",
            "Train loss: 0.84, Test Loss 0.73\n",
            "Train accuracy: 0.64, Test accuracy 0.67\n",
            "___________________________\n",
            "Epoch 12\n",
            "Train loss: 0.82, Test Loss 0.73\n",
            "Train accuracy: 0.64, Test accuracy 0.68\n",
            "___________________________\n",
            "Epoch 13\n",
            "Train loss: 0.80, Test Loss 0.71\n",
            "Train accuracy: 0.65, Test accuracy 0.69\n",
            "___________________________\n",
            "Epoch 14\n",
            "Train loss: 0.79, Test Loss 0.70\n",
            "Train accuracy: 0.66, Test accuracy 0.70\n",
            "___________________________\n",
            "Epoch 15\n",
            "Train loss: 0.79, Test Loss 0.70\n",
            "Train accuracy: 0.66, Test accuracy 0.69\n",
            "___________________________\n",
            "Epoch 16\n",
            "Train loss: 0.77, Test Loss 0.67\n",
            "Train accuracy: 0.66, Test accuracy 0.71\n",
            "___________________________\n",
            "Epoch 17\n",
            "Train loss: 0.77, Test Loss 0.68\n",
            "Train accuracy: 0.67, Test accuracy 0.71\n",
            "___________________________\n",
            "Epoch 18\n",
            "Train loss: 0.76, Test Loss 0.67\n",
            "Train accuracy: 0.68, Test accuracy 0.70\n",
            "___________________________\n",
            "Epoch 19\n",
            "Train loss: 0.76, Test Loss 0.66\n",
            "Train accuracy: 0.67, Test accuracy 0.71\n",
            "___________________________\n",
            "Epoch 20\n",
            "Train loss: 0.73, Test Loss 0.65\n",
            "Train accuracy: 0.68, Test accuracy 0.73\n",
            "___________________________\n",
            "Epoch 21\n",
            "Train loss: 0.75, Test Loss 0.66\n",
            "Train accuracy: 0.67, Test accuracy 0.71\n",
            "___________________________\n",
            "Epoch 22\n",
            "Train loss: 0.73, Test Loss 0.64\n",
            "Train accuracy: 0.69, Test accuracy 0.72\n",
            "___________________________\n",
            "Epoch 23\n",
            "Train loss: 0.73, Test Loss 0.64\n",
            "Train accuracy: 0.68, Test accuracy 0.72\n",
            "___________________________\n",
            "Epoch 24\n",
            "Train loss: 0.73, Test Loss 0.66\n",
            "Train accuracy: 0.69, Test accuracy 0.71\n",
            "___________________________\n",
            "Epoch 25\n",
            "Train loss: 0.72, Test Loss 0.64\n",
            "Train accuracy: 0.69, Test accuracy 0.72\n",
            "___________________________\n",
            "Epoch 26\n",
            "Train loss: 0.71, Test Loss 0.63\n",
            "Train accuracy: 0.69, Test accuracy 0.74\n",
            "___________________________\n",
            "Epoch 27\n",
            "Train loss: 0.72, Test Loss 0.64\n",
            "Train accuracy: 0.69, Test accuracy 0.73\n",
            "___________________________\n",
            "Epoch 28\n",
            "Train loss: 0.70, Test Loss 0.63\n",
            "Train accuracy: 0.70, Test accuracy 0.73\n",
            "___________________________\n",
            "Epoch 29\n",
            "Train loss: 0.71, Test Loss 0.63\n",
            "Train accuracy: 0.70, Test accuracy 0.73\n",
            "___________________________\n",
            "Epoch 30\n",
            "Train loss: 0.70, Test Loss 0.63\n",
            "Train accuracy: 0.70, Test accuracy 0.74\n",
            "___________________________\n",
            "Epoch 31\n",
            "Train loss: 0.69, Test Loss 0.66\n",
            "Train accuracy: 0.70, Test accuracy 0.72\n",
            "___________________________\n",
            "Epoch 32\n",
            "Train loss: 0.68, Test Loss 0.62\n",
            "Train accuracy: 0.70, Test accuracy 0.74\n",
            "___________________________\n",
            "Epoch 33\n",
            "Train loss: 0.69, Test Loss 0.64\n",
            "Train accuracy: 0.71, Test accuracy 0.73\n",
            "___________________________\n",
            "Epoch 34\n",
            "Train loss: 0.67, Test Loss 0.62\n",
            "Train accuracy: 0.72, Test accuracy 0.74\n",
            "___________________________\n",
            "Epoch 35\n",
            "Train loss: 0.67, Test Loss 0.62\n",
            "Train accuracy: 0.71, Test accuracy 0.73\n",
            "___________________________\n",
            "Epoch 36\n",
            "Train loss: 0.67, Test Loss 0.63\n",
            "Train accuracy: 0.72, Test accuracy 0.73\n",
            "___________________________\n",
            "Epoch 37\n",
            "Train loss: 0.66, Test Loss 0.62\n",
            "Train accuracy: 0.72, Test accuracy 0.73\n",
            "___________________________\n",
            "Epoch 38\n",
            "Train loss: 0.65, Test Loss 0.62\n",
            "Train accuracy: 0.72, Test accuracy 0.75\n",
            "___________________________\n",
            "Epoch 39\n",
            "Train loss: 0.65, Test Loss 0.61\n",
            "Train accuracy: 0.72, Test accuracy 0.74\n",
            "___________________________\n",
            "Epoch 40\n",
            "Train loss: 0.64, Test Loss 0.63\n",
            "Train accuracy: 0.73, Test accuracy 0.74\n",
            "___________________________\n",
            "Epoch 41\n",
            "Train loss: 0.64, Test Loss 0.61\n",
            "Train accuracy: 0.73, Test accuracy 0.74\n",
            "___________________________\n",
            "Epoch 42\n",
            "Train loss: 0.64, Test Loss 0.60\n",
            "Train accuracy: 0.73, Test accuracy 0.74\n",
            "___________________________\n",
            "Epoch 43\n",
            "Train loss: 0.63, Test Loss 0.60\n",
            "Train accuracy: 0.74, Test accuracy 0.76\n",
            "___________________________\n",
            "Epoch 44\n",
            "Train loss: 0.63, Test Loss 0.60\n",
            "Train accuracy: 0.74, Test accuracy 0.75\n",
            "___________________________\n",
            "Epoch 45\n",
            "Train loss: 0.63, Test Loss 0.61\n",
            "Train accuracy: 0.73, Test accuracy 0.74\n",
            "___________________________\n",
            "Epoch 46\n",
            "Train loss: 0.62, Test Loss 0.59\n",
            "Train accuracy: 0.74, Test accuracy 0.76\n",
            "___________________________\n",
            "Epoch 47\n",
            "Train loss: 0.62, Test Loss 0.59\n",
            "Train accuracy: 0.74, Test accuracy 0.76\n",
            "___________________________\n",
            "Epoch 48\n",
            "Train loss: 0.62, Test Loss 0.59\n",
            "Train accuracy: 0.74, Test accuracy 0.76\n",
            "___________________________\n",
            "Epoch 49\n",
            "Train loss: 0.59, Test Loss 0.59\n",
            "Train accuracy: 0.75, Test accuracy 0.76\n",
            "___________________________\n",
            "Epoch 50\n",
            "Train loss: 0.60, Test Loss 0.60\n",
            "Train accuracy: 0.75, Test accuracy 0.75\n",
            "___________________________\n",
            "Epoch 51\n",
            "Train loss: 0.59, Test Loss 0.59\n",
            "Train accuracy: 0.75, Test accuracy 0.76\n",
            "___________________________\n",
            "Epoch 52\n",
            "Train loss: 0.60, Test Loss 0.58\n",
            "Train accuracy: 0.75, Test accuracy 0.76\n",
            "___________________________\n",
            "Epoch 53\n",
            "Train loss: 0.59, Test Loss 0.58\n",
            "Train accuracy: 0.75, Test accuracy 0.76\n",
            "___________________________\n",
            "Epoch 54\n",
            "Train loss: 0.58, Test Loss 0.58\n",
            "Train accuracy: 0.77, Test accuracy 0.75\n",
            "___________________________\n",
            "Epoch 55\n",
            "Train loss: 0.59, Test Loss 0.58\n",
            "Train accuracy: 0.75, Test accuracy 0.76\n",
            "___________________________\n",
            "Epoch 56\n",
            "Train loss: 0.57, Test Loss 0.59\n",
            "Train accuracy: 0.76, Test accuracy 0.76\n",
            "___________________________\n",
            "Epoch 57\n",
            "Train loss: 0.57, Test Loss 0.58\n",
            "Train accuracy: 0.76, Test accuracy 0.75\n",
            "___________________________\n",
            "Epoch 58\n",
            "Train loss: 0.57, Test Loss 0.58\n",
            "Train accuracy: 0.76, Test accuracy 0.76\n",
            "___________________________\n",
            "Epoch 59\n",
            "Train loss: 0.57, Test Loss 0.58\n",
            "Train accuracy: 0.77, Test accuracy 0.77\n",
            "___________________________\n",
            "Epoch 60\n",
            "Train loss: 0.56, Test Loss 0.58\n",
            "Train accuracy: 0.77, Test accuracy 0.76\n",
            "___________________________\n",
            "Epoch 61\n",
            "Train loss: 0.56, Test Loss 0.57\n",
            "Train accuracy: 0.76, Test accuracy 0.76\n",
            "___________________________\n",
            "Epoch 62\n",
            "Train loss: 0.55, Test Loss 0.58\n",
            "Train accuracy: 0.77, Test accuracy 0.77\n",
            "___________________________\n",
            "Epoch 63\n",
            "Train loss: 0.55, Test Loss 0.58\n",
            "Train accuracy: 0.77, Test accuracy 0.76\n",
            "___________________________\n",
            "Epoch 64\n",
            "Train loss: 0.55, Test Loss 0.58\n",
            "Train accuracy: 0.77, Test accuracy 0.75\n",
            "___________________________\n",
            "Epoch 65\n",
            "Train loss: 0.54, Test Loss 0.58\n",
            "Train accuracy: 0.78, Test accuracy 0.76\n",
            "___________________________\n",
            "Epoch 66\n",
            "Train loss: 0.54, Test Loss 0.58\n",
            "Train accuracy: 0.78, Test accuracy 0.75\n",
            "___________________________\n",
            "Epoch 67\n",
            "Train loss: 0.53, Test Loss 0.58\n",
            "Train accuracy: 0.78, Test accuracy 0.77\n",
            "___________________________\n",
            "Epoch 68\n",
            "Train loss: 0.52, Test Loss 0.58\n",
            "Train accuracy: 0.79, Test accuracy 0.76\n",
            "___________________________\n",
            "Epoch 69\n",
            "Train loss: 0.53, Test Loss 0.57\n",
            "Train accuracy: 0.78, Test accuracy 0.76\n",
            "___________________________\n",
            "Epoch 70\n",
            "Train loss: 0.51, Test Loss 0.57\n",
            "Train accuracy: 0.79, Test accuracy 0.77\n",
            "___________________________\n",
            "Epoch 71\n",
            "Train loss: 0.53, Test Loss 0.57\n",
            "Train accuracy: 0.79, Test accuracy 0.77\n",
            "___________________________\n",
            "Epoch 72\n",
            "Train loss: 0.52, Test Loss 0.58\n",
            "Train accuracy: 0.79, Test accuracy 0.76\n",
            "___________________________\n",
            "Epoch 73\n",
            "Train loss: 0.52, Test Loss 0.57\n",
            "Train accuracy: 0.78, Test accuracy 0.76\n",
            "___________________________\n",
            "Epoch 74\n",
            "Train loss: 0.52, Test Loss 0.57\n",
            "Train accuracy: 0.79, Test accuracy 0.76\n",
            "___________________________\n",
            "Epoch 75\n",
            "Train loss: 0.51, Test Loss 0.57\n",
            "Train accuracy: 0.79, Test accuracy 0.77\n",
            "___________________________\n",
            "Epoch 76\n",
            "Train loss: 0.51, Test Loss 0.57\n",
            "Train accuracy: 0.79, Test accuracy 0.77\n",
            "___________________________\n",
            "Epoch 77\n",
            "Train loss: 0.51, Test Loss 0.57\n",
            "Train accuracy: 0.79, Test accuracy 0.77\n",
            "___________________________\n",
            "Epoch 78\n",
            "Train loss: 0.51, Test Loss 0.57\n",
            "Train accuracy: 0.79, Test accuracy 0.77\n",
            "___________________________\n",
            "Epoch 79\n",
            "Train loss: 0.50, Test Loss 0.57\n",
            "Train accuracy: 0.79, Test accuracy 0.77\n",
            "___________________________\n",
            "Epoch 80\n",
            "Train loss: 0.49, Test Loss 0.57\n",
            "Train accuracy: 0.80, Test accuracy 0.77\n",
            "___________________________\n",
            "Epoch 81\n",
            "Train loss: 0.50, Test Loss 0.57\n",
            "Train accuracy: 0.79, Test accuracy 0.77\n",
            "___________________________\n",
            "Epoch 82\n",
            "Train loss: 0.50, Test Loss 0.57\n",
            "Train accuracy: 0.80, Test accuracy 0.76\n",
            "___________________________\n",
            "Epoch 83\n",
            "Train loss: 0.49, Test Loss 0.57\n",
            "Train accuracy: 0.80, Test accuracy 0.77\n",
            "___________________________\n",
            "Epoch 84\n",
            "Train loss: 0.49, Test Loss 0.57\n",
            "Train accuracy: 0.80, Test accuracy 0.77\n",
            "___________________________\n",
            "Epoch 85\n",
            "Train loss: 0.49, Test Loss 0.57\n",
            "Train accuracy: 0.80, Test accuracy 0.77\n",
            "___________________________\n",
            "Epoch 86\n",
            "Train loss: 0.49, Test Loss 0.57\n",
            "Train accuracy: 0.80, Test accuracy 0.77\n",
            "___________________________\n",
            "Epoch 87\n",
            "Train loss: 0.48, Test Loss 0.57\n",
            "Train accuracy: 0.80, Test accuracy 0.76\n",
            "___________________________\n",
            "Epoch 88\n",
            "Train loss: 0.47, Test Loss 0.57\n",
            "Train accuracy: 0.81, Test accuracy 0.77\n",
            "___________________________\n",
            "Epoch 89\n",
            "Train loss: 0.47, Test Loss 0.58\n",
            "Train accuracy: 0.81, Test accuracy 0.76\n",
            "___________________________\n",
            "Epoch 90\n",
            "Train loss: 0.47, Test Loss 0.57\n",
            "Train accuracy: 0.81, Test accuracy 0.76\n",
            "___________________________\n",
            "Epoch 91\n",
            "Train loss: 0.46, Test Loss 0.57\n",
            "Train accuracy: 0.82, Test accuracy 0.76\n",
            "___________________________\n",
            "Epoch 92\n",
            "Train loss: 0.47, Test Loss 0.57\n",
            "Train accuracy: 0.81, Test accuracy 0.77\n",
            "___________________________\n",
            "Epoch 93\n",
            "Train loss: 0.47, Test Loss 0.57\n",
            "Train accuracy: 0.82, Test accuracy 0.76\n",
            "___________________________\n",
            "Epoch 94\n",
            "Train loss: 0.47, Test Loss 0.57\n",
            "Train accuracy: 0.81, Test accuracy 0.77\n",
            "___________________________\n",
            "Epoch 95\n",
            "Train loss: 0.47, Test Loss 0.57\n",
            "Train accuracy: 0.81, Test accuracy 0.77\n",
            "___________________________\n",
            "Epoch 96\n",
            "Train loss: 0.47, Test Loss 0.57\n",
            "Train accuracy: 0.81, Test accuracy 0.76\n",
            "___________________________\n",
            "Epoch 97\n",
            "Train loss: 0.47, Test Loss 0.57\n",
            "Train accuracy: 0.81, Test accuracy 0.76\n",
            "___________________________\n",
            "Epoch 98\n",
            "Train loss: 0.47, Test Loss 0.57\n",
            "Train accuracy: 0.81, Test accuracy 0.77\n",
            "___________________________\n",
            "Epoch 99\n",
            "Train loss: 0.46, Test Loss 0.57\n",
            "Train accuracy: 0.81, Test accuracy 0.77\n",
            "___________________________\n",
            "Epoch 100\n",
            "Train loss: 0.45, Test Loss 0.57\n",
            "Train accuracy: 0.82, Test accuracy 0.77\n",
            "___________________________\n"
          ]
        }
      ],
      "source": [
        "# training cnn\n",
        "num_epochs = 100\n",
        "# criterion = nn.NLLLoss()\n",
        "criterion = nn.CrossEntropyLoss()\n",
        "optimizer = torch.optim.Adam(AudioEmotionClassifierModel_LSTM.parameters(),lr=lr)\n",
        "scheduler = torch.optim.lr_scheduler.OneCycleLR(optimizer, max_lr=lr,\n",
        "                                                steps_per_epoch=int(len(train_dl_cnn)),\n",
        "                                                epochs=num_epochs,\n",
        "                                                anneal_strategy='linear')\n",
        "\n",
        "train_test_loss = {'train_loss':[],'val_loss':[]}\n",
        "train_test_accuracy = {'train_accuracy':[],'val_accuracy':[]}\n",
        "\n",
        "for epoch in range(num_epochs):\n",
        "    print('Epoch {}'.format(epoch + 1))\n",
        "    train_loss, train_acc = train_epoch(AudioEmotionClassifierModel_LSTM, device, train_dl_cnn, criterion, optimizer, scheduler, lstm=True)\n",
        "    test_loss, test_acc = test_epoch(AudioEmotionClassifierModel_LSTM, device, val_dl_cnn, criterion) \n",
        "    train_test_loss['train_loss'].append(train_loss)\n",
        "    train_test_accuracy['train_accuracy'].append(train_acc)\n",
        "    train_test_loss['val_loss'].append(test_loss.cpu())\n",
        "    train_test_accuracy['val_accuracy'].append(test_acc)\n",
        "    print('Train loss: {:.2f}, Test Loss {:.2f}'.format(train_loss, test_loss))\n",
        "    print('Train accuracy: {:.2f}, Test accuracy {:.2f}'.format(train_acc, test_acc))\n",
        "    print('___________________________')\n"
      ]
    },
    {
      "cell_type": "markdown",
      "source": [
        "#### Evaluation Metrics"
      ],
      "metadata": {
        "id": "zsEEkVpv_ixy"
      }
    },
    {
      "cell_type": "code",
      "source": [
        "fig3 = plt.figure(figsize=(8,6))\n",
        "plt.title('Train and Test Loss of CNN+LSTM')\n",
        "plt.plot(range(epoch+1),train_test_loss['train_loss'], label = 'Train')\n",
        "plt.plot(range(epoch+1), train_test_loss['val_loss'], label = 'Test')\n",
        "plt.legend()\n",
        "plt.show()\n",
        "fig3 = plt.savefig(save_path + 'Train_Test_loss_cnnlstm.png')"
      ],
      "metadata": {
        "colab": {
          "base_uri": "https://localhost:8080/",
          "height": 420
        },
        "id": "4yXKibur_hx_",
        "outputId": "8998571b-b497-4cf3-c34f-821c091da839"
      },
      "execution_count": null,
      "outputs": [
        {
          "output_type": "display_data",
          "data": {
            "text/plain": [
              "<Figure size 576x432 with 1 Axes>"
            ],
            "image/png": "[encoded data removed]"
          },
          "metadata": {}
        },
        {
          "output_type": "display_data",
          "data": {
            "text/plain": [
              "<Figure size 432x288 with 0 Axes>"
            ]
          },
          "metadata": {}
        }
      ]
    },
    {
      "cell_type": "code",
      "source": [
        "fig4 = plt.figure(figsize=(8,6))\n",
        "plt.title('Train and Test Accuracy of CNN+LSTM')\n",
        "plt.plot(range(epoch+1),train_test_accuracy['train_accuracy'], label = 'Train')\n",
        "plt.plot(range(epoch+1), train_test_accuracy['val_accuracy'], label = 'Test')\n",
        "plt.legend()\n",
        "plt.show()\n",
        "fig4 = plt.savefig(save_path + 'Train_Test_acc_cnnlstm.jpg')"
      ],
      "metadata": {
        "colab": {
          "base_uri": "https://localhost:8080/",
          "height": 420
        },
        "id": "wP-fK9ZaCL6b",
        "outputId": "399f17e1-5ee8-42c1-cea0-65cfdafa5f96"
      },
      "execution_count": null,
      "outputs": [
        {
          "output_type": "display_data",
          "data": {
            "text/plain": [
              "<Figure size 576x432 with 1 Axes>"
            ],
            "image/png": "[encoded data removed]"
          },
          "metadata": {}
        },
        {
          "output_type": "display_data",
          "data": {
            "text/plain": [
              "<Figure size 432x288 with 0 Axes>"
            ]
          },
          "metadata": {}
        }
      ]
    },
    {
      "cell_type": "code",
      "source": [
        "# # save model\n",
        "# model_path = 'drive/MyDrive/audio_emotion_LSTM27APR2022_Final.pt'\n",
        "# torch.save(AudioEmotionClassifierModel_LSTM.state_dict(), model_path)"
      ],
      "metadata": {
        "id": "6aOjk7fhCc44"
      },
      "execution_count": null,
      "outputs": []
    },
    {
      "cell_type": "code",
      "source": [
        "# get confusion matrix\n",
        "def get_eval_met(model, dataloader):\n",
        "    model.eval()\n",
        "\n",
        "    pred, actuals = [], []\n",
        "\n",
        "    with torch.no_grad():\n",
        "        for data in dataloader:\n",
        "            temp_list =[]\n",
        "            inputs, labels = data[0].to(device), data[1].to(device)\n",
        "            inputs_m, inputs_s = inputs.mean(), inputs.std()\n",
        "            inputs = (inputs - inputs_m) / inputs_s\n",
        "            \n",
        "            pred_prob = model(inputs)\n",
        "\n",
        "            # get highest prediction class\n",
        "            _, prediction = torch.max(pred_prob,1)\n",
        "            prediction_cpu = prediction.data.cpu()\n",
        "      \n",
        "            \n",
        "            pred_list = [i.cpu().item() for i in prediction]\n",
        "            label_list = [i.cpu().item() for i in labels]\n",
        "\n",
        "            pred += pred_list\n",
        "            actuals += label_list\n",
        "\n",
        "    acc = sklearn.metrics.accuracy_score(actuals, pred)\n",
        "    prf = sklearn.metrics.precision_recall_fscore_support(actuals, pred, labels=[0,1,2,3], average=\"macro\")\n",
        "    cm = sklearn.metrics.confusion_matrix(pred, actuals)\n",
        "    return acc, prf, cm\n"
      ],
      "metadata": {
        "id": "KEf2aYDMCl5V"
      },
      "execution_count": null,
      "outputs": []
    },
    {
      "cell_type": "code",
      "source": [
        "acc, prf, cm = get_eval_met(AudioEmotionClassifierModel_LSTM, val_dl_cnn)\n",
        "df_cm_CNN = pd.DataFrame(cm,\n",
        "                            index=[\"neutral\", \"happy\", \"sad\", \"angry\"],\n",
        "                            columns=[\"neutral\", \"happy\", \"sad\", \"angry\"])\n",
        "\n",
        "\n",
        "fig = plt.figure(figsize=(10, 7))\n",
        "sn.set(font_scale=1.4)\n",
        "sn.heatmap(df_cm_CNN, annot=True, fmt=\"d\", cmap=\"YlGnBu\")\n",
        "plt.xlabel(\"Predicted\")\n",
        "plt.ylabel(\"Actual\")\n",
        "plt.title(\"CNN + LSTM\")\n",
        "plt.show()\n",
        "fig.savefig(save_path + 'LSTM_CNN.jpg')\n",
        "\n",
        "print(acc)\n",
        "print(prf)"
      ],
      "metadata": {
        "colab": {
          "base_uri": "https://localhost:8080/",
          "height": 513
        },
        "id": "F3ecFv_1Cvcv",
        "outputId": "43008c68-ce8c-4edf-ab94-f90fd69c9c24"
      },
      "execution_count": null,
      "outputs": [
        {
          "output_type": "display_data",
          "data": {
            "text/plain": [
              "<Figure size 720x504 with 2 Axes>"
            ],
            "image/png": "[encoded data removed]"
          },
          "metadata": {}
        },
        {
          "output_type": "stream",
          "name": "stdout",
          "text": [
            "0.7663690476190477\n",
            "(0.7617352393143944, 0.7638607611373174, 0.7611632996461365, None)\n"
          ]
        }
      ]
    },
    {
      "cell_type": "markdown",
      "metadata": {
        "id": "irMHi4lx5Pr7"
      },
      "source": [
        "# Testing with Custom Audio Recordings"
      ]
    },
    {
      "cell_type": "code",
      "execution_count": null,
      "metadata": {
        "colab": {
          "base_uri": "https://localhost:8080/"
        },
        "id": "27v8vAoc4urx",
        "outputId": "3047c801-4a1c-4fec-d5aa-6f2df3032383"
      },
      "outputs": [
        {
          "name": "stdout",
          "output_type": "stream",
          "text": [
            "drive/MyDrive/neutral.wav\n"
          ]
        }
      ],
      "source": [
        "!ls drive/MyDrive/neutral.wav"
      ]
    },
    {
      "cell_type": "code",
      "execution_count": null,
      "metadata": {
        "id": "zywK0ZucOHMi"
      },
      "outputs": [],
      "source": [
        "# # load only when model has been trained\n",
        "# AudioEmotionClassifierModel = AudioEmotionClassifier()\n",
        "# AudioEmotionClassifierModel = AudioEmotionClassifierModel.to(device)\n",
        "# AudioEmotionClassifierModel.load_state_dict(torch.load('drive/MyDrive/audio_emotion_model19APR2022.pt'))"
      ]
    },
    {
      "cell_type": "code",
      "execution_count": null,
      "metadata": {
        "id": "MoTyC-jEOidS"
      },
      "outputs": [],
      "source": [
        "!ls drive/MyDrive/processed_emotion_dataset/sad"
      ]
    },
    {
      "cell_type": "code",
      "execution_count": null,
      "metadata": {
        "id": "6szkhCmm4wbt"
      },
      "outputs": [],
      "source": [
        "test_path = 'drive/MyDrive/processed_emotion_dataset/angry/angry_429.wav'"
      ]
    },
    {
      "cell_type": "code",
      "execution_count": null,
      "metadata": {
        "id": "LaY5kHaEK1c8"
      },
      "outputs": [],
      "source": [
        "emotion_class_keys = { 0: \"neutral\",\n",
        "                    1 : \"happy\",\n",
        "                    2 : \"sad\",\n",
        "                    3 : \"angry\"\n",
        "                    }"
      ]
    },
    {
      "cell_type": "code",
      "execution_count": null,
      "metadata": {
        "id": "gplRbrmH5OC9",
        "colab": {
          "base_uri": "https://localhost:8080/",
          "height": 35
        },
        "outputId": "af048345-d68c-4a43-fa30-56210e37c947"
      },
      "outputs": [
        {
          "output_type": "execute_result",
          "data": {
            "text/plain": [
              "'neutral'"
            ],
            "application/vnd.google.colaboratory.intrinsic+json": {
              "type": "string"
            }
          },
          "metadata": {},
          "execution_count": 355
        }
      ],
      "source": [
        "x, sr = librosa.load(test_path)\n",
        "sr = 22050\n",
        "mfcc = librosa.feature.mfcc(y=x, sr=sr)\n",
        "pad_crop_length = 50 - mfcc.shape[1]\n",
        "if pad_crop_length > 0:\n",
        "    mfcc = np.pad(mfcc, [(0, 0), (0, pad_crop_length)], mode='constant')\n",
        "elif pad_crop_length < 0:\n",
        "    mfcc = mfcc[:, 0:50]\n",
        "melspect = librosa.feature.melspectrogram(y=x, sr=sr,)\n",
        "pad_crop_length = 50 - melspect.shape[1]\n",
        "if pad_crop_length > 0:\n",
        "    melspect = np.pad(melspect, [(0, 0), (0, pad_crop_length)], mode='constant')\n",
        "elif pad_crop_length < 0:\n",
        "    melspect = melspect[:, 0:50]\n",
        "melspect = librosa.power_to_db(melspect, top_db=80.0)\n",
        "melspect = melspect[0:20,]\n",
        "audio_arr = np.dstack((mfcc, melspect))\n",
        "audio_arr = np.moveaxis(audio_arr, [2, 0], [0, 1])\n",
        "tensor = torch.from_numpy(audio_arr).to(device)\n",
        "\n",
        "pred = AudioEmotionClassifierModelCNN(tensor[None,:,:,:])\n",
        "_, class_emotion = torch.max(pred,1)\n",
        "emotion_class_keys.get(class_emotion.data.item())"
      ]
    },
    {
      "cell_type": "code",
      "source": [
        ""
      ],
      "metadata": {
        "id": "KS0LZYvnB8v4"
      },
      "execution_count": null,
      "outputs": []
    }
  ],
  "metadata": {
    "accelerator": "GPU",
    "colab": {
      "background_execution": "on",
      "collapsed_sections": [],
      "machine_shape": "hm",
      "name": "Speech_emotion_recognition_modelingV3.ipynb",
      "provenance": [],
      "include_colab_link": true
    },
    "kernelspec": {
      "display_name": "Python 3",
      "name": "python3"
    },
    "language_info": {
      "name": "python"
    }
  },
  "nbformat": 4,
  "nbformat_minor": 0
}